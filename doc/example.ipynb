{
 "cells": [
  {
   "cell_type": "markdown",
   "id": "aef4281c",
   "metadata": {},
   "source": [
    "Unisimpls Example\n",
    "================\n",
    "\n",
    "Install the `unisimpls` package, then check: "
   ]
  },
  {
   "cell_type": "code",
   "execution_count": 5,
   "id": "3511c963",
   "metadata": {},
   "outputs": [
    {
     "name": "stdout",
     "output_type": "stream",
     "text": [
      "typeof(predint)"
     ]
    }
   ],
   "source": [
    "using unisimpls\n",
    "print(typeof(predint))"
   ]
  },
  {
   "cell_type": "markdown",
   "id": "e543a010",
   "metadata": {},
   "source": [
    "1) Set up environment, load data\n",
    "---------------------------------"
   ]
  },
  {
   "cell_type": "markdown",
   "id": "a93a1f24",
   "metadata": {},
   "source": [
    "Install other dependencies"
   ]
  },
  {
   "cell_type": "code",
   "execution_count": 6,
   "id": "3ec67915",
   "metadata": {},
   "outputs": [],
   "source": [
    "using CSV\n",
    "using Statistics\n",
    "using ScikitLearnBase\n",
    "using ScikitLearn\n",
    "using DataFrames\n",
    "using Parameters"
   ]
  },
  {
   "cell_type": "markdown",
   "id": "714aa432",
   "metadata": {},
   "source": [
    "Load data"
   ]
  },
  {
   "cell_type": "code",
   "execution_count": 7,
   "id": "2ec97ffc",
   "metadata": {},
   "outputs": [
    {
     "data": {
      "text/html": [
       "<div><div style = \"float: left;\"><span>24×1 DataFrame</span></div><div style = \"clear: both;\"></div></div><div class = \"data-frame\" style = \"overflow-x: scroll;\"><table class = \"data-frame\" style = \"margin-bottom: 6px;\"><thead><tr class = \"header\"><th class = \"rowNumber\" style = \"font-weight: bold; text-align: right;\">Row</th><th style = \"text-align: left;\">Column1</th></tr><tr class = \"subheader headerLastRow\"><th class = \"rowNumber\" style = \"font-weight: bold; text-align: right;\"></th><th title = \"Float64\" style = \"text-align: left;\">Float64</th></tr></thead><tbody><tr><td class = \"rowNumber\" style = \"font-weight: bold; text-align: right;\">1</td><td style = \"text-align: right;\">9.23</td></tr><tr><td class = \"rowNumber\" style = \"font-weight: bold; text-align: right;\">2</td><td style = \"text-align: right;\">8.01</td></tr><tr><td class = \"rowNumber\" style = \"font-weight: bold; text-align: right;\">3</td><td style = \"text-align: right;\">10.95</td></tr><tr><td class = \"rowNumber\" style = \"font-weight: bold; text-align: right;\">4</td><td style = \"text-align: right;\">11.67</td></tr><tr><td class = \"rowNumber\" style = \"font-weight: bold; text-align: right;\">5</td><td style = \"text-align: right;\">10.41</td></tr><tr><td class = \"rowNumber\" style = \"font-weight: bold; text-align: right;\">6</td><td style = \"text-align: right;\">9.51</td></tr><tr><td class = \"rowNumber\" style = \"font-weight: bold; text-align: right;\">7</td><td style = \"text-align: right;\">8.67</td></tr><tr><td class = \"rowNumber\" style = \"font-weight: bold; text-align: right;\">8</td><td style = \"text-align: right;\">7.75</td></tr><tr><td class = \"rowNumber\" style = \"font-weight: bold; text-align: right;\">9</td><td style = \"text-align: right;\">8.05</td></tr><tr><td class = \"rowNumber\" style = \"font-weight: bold; text-align: right;\">10</td><td style = \"text-align: right;\">11.39</td></tr><tr><td class = \"rowNumber\" style = \"font-weight: bold; text-align: right;\">11</td><td style = \"text-align: right;\">9.95</td></tr><tr><td class = \"rowNumber\" style = \"font-weight: bold; text-align: right;\">12</td><td style = \"text-align: right;\">8.25</td></tr><tr><td class = \"rowNumber\" style = \"font-weight: bold; text-align: right;\">13</td><td style = \"text-align: right;\">10.57</td></tr><tr><td class = \"rowNumber\" style = \"font-weight: bold; text-align: right;\">14</td><td style = \"text-align: right;\">10.23</td></tr><tr><td class = \"rowNumber\" style = \"font-weight: bold; text-align: right;\">15</td><td style = \"text-align: right;\">11.87</td></tr><tr><td class = \"rowNumber\" style = \"font-weight: bold; text-align: right;\">16</td><td style = \"text-align: right;\">8.09</td></tr><tr><td class = \"rowNumber\" style = \"font-weight: bold; text-align: right;\">17</td><td style = \"text-align: right;\">12.55</td></tr><tr><td class = \"rowNumber\" style = \"font-weight: bold; text-align: right;\">18</td><td style = \"text-align: right;\">8.38</td></tr><tr><td class = \"rowNumber\" style = \"font-weight: bold; text-align: right;\">19</td><td style = \"text-align: right;\">9.64</td></tr><tr><td class = \"rowNumber\" style = \"font-weight: bold; text-align: right;\">20</td><td style = \"text-align: right;\">11.35</td></tr><tr><td class = \"rowNumber\" style = \"font-weight: bold; text-align: right;\">21</td><td style = \"text-align: right;\">9.7</td></tr><tr><td class = \"rowNumber\" style = \"font-weight: bold; text-align: right;\">22</td><td style = \"text-align: right;\">10.75</td></tr><tr><td class = \"rowNumber\" style = \"font-weight: bold; text-align: right;\">23</td><td style = \"text-align: right;\">10.75</td></tr><tr><td class = \"rowNumber\" style = \"font-weight: bold; text-align: right;\">24</td><td style = \"text-align: right;\">11.47</td></tr></tbody></table></div>"
      ],
      "text/latex": [
       "\\begin{tabular}{r|c}\n",
       "\t& Column1\\\\\n",
       "\t\\hline\n",
       "\t& Float64\\\\\n",
       "\t\\hline\n",
       "\t1 & 9.23 \\\\\n",
       "\t2 & 8.01 \\\\\n",
       "\t3 & 10.95 \\\\\n",
       "\t4 & 11.67 \\\\\n",
       "\t5 & 10.41 \\\\\n",
       "\t6 & 9.51 \\\\\n",
       "\t7 & 8.67 \\\\\n",
       "\t8 & 7.75 \\\\\n",
       "\t9 & 8.05 \\\\\n",
       "\t10 & 11.39 \\\\\n",
       "\t11 & 9.95 \\\\\n",
       "\t12 & 8.25 \\\\\n",
       "\t13 & 10.57 \\\\\n",
       "\t14 & 10.23 \\\\\n",
       "\t15 & 11.87 \\\\\n",
       "\t16 & 8.09 \\\\\n",
       "\t17 & 12.55 \\\\\n",
       "\t18 & 8.38 \\\\\n",
       "\t19 & 9.64 \\\\\n",
       "\t20 & 11.35 \\\\\n",
       "\t21 & 9.7 \\\\\n",
       "\t22 & 10.75 \\\\\n",
       "\t23 & 10.75 \\\\\n",
       "\t24 & 11.47 \\\\\n",
       "\\end{tabular}\n"
      ],
      "text/plain": [
       "\u001b[1m24×1 DataFrame\u001b[0m\n",
       "\u001b[1m Row \u001b[0m│\u001b[1m Column1 \u001b[0m\n",
       "     │\u001b[90m Float64 \u001b[0m\n",
       "─────┼─────────\n",
       "   1 │    9.23\n",
       "   2 │    8.01\n",
       "   3 │   10.95\n",
       "   4 │   11.67\n",
       "   5 │   10.41\n",
       "   6 │    9.51\n",
       "   7 │    8.67\n",
       "   8 │    7.75\n",
       "   9 │    8.05\n",
       "  10 │   11.39\n",
       "  11 │    9.95\n",
       "  ⋮  │    ⋮\n",
       "  15 │   11.87\n",
       "  16 │    8.09\n",
       "  17 │   12.55\n",
       "  18 │    8.38\n",
       "  19 │    9.64\n",
       "  20 │   11.35\n",
       "  21 │    9.7\n",
       "  22 │   10.75\n",
       "  23 │   10.75\n",
       "  24 │   11.47\n",
       "\u001b[36m 3 rows omitted\u001b[0m"
      ]
     },
     "execution_count": 7,
     "metadata": {},
     "output_type": "execute_result"
    }
   ],
   "source": [
    "Xf = CSV.read(\"../data/Xfearncal.csv\", DataFrame, header=0)\n",
    "yf = CSV.read(\"../data/Yfearncal.csv\", DataFrame, header=0)"
   ]
  },
  {
   "cell_type": "markdown",
   "id": "ec7cafb4",
   "metadata": {},
   "source": [
    "2) Unisimpls Regression and Prediction\n",
    "--------------------------------------"
   ]
  },
  {
   "cell_type": "code",
   "execution_count": 10,
   "id": "336bdd6e",
   "metadata": {},
   "outputs": [
    {
     "name": "stdout",
     "output_type": "stream",
     "text": [
      "SIMPLS\n",
      "  n_components: Int64 3\n",
      "  verbose: Bool true\n",
      "  centre: String \"mean\"\n",
      "  scale: String \"std\"\n",
      "  copy: Bool true\n",
      "  all_components: Bool true\n",
      "  return_uncertainty: Bool false\n",
      "  store_jacobians: Bool true\n",
      "  significance: Float64 0.05\n",
      "  X_Types_Accept: Array{DataType}((7,))\n",
      "  y_Types_Accept: Array{DataType}((8,))\n",
      "  X0: Nothing nothing\n",
      "  y0: Nothing nothing\n",
      "  Xs_: Nothing nothing\n",
      "  ys_: Nothing nothing\n",
      "  x_loadings_: Nothing nothing\n",
      "  x_scores_: Nothing nothing\n",
      "  coef_: Nothing nothing\n",
      "  coef_scaled_: Nothing nothing\n",
      "  all_coeffs_: Nothing nothing\n",
      "  intercept_: Nothing nothing\n",
      "  all_intercepts_: Nothing nothing\n",
      "  x_ev_: Nothing nothing\n",
      "  y_ev_: Nothing nothing\n",
      "  fitted_: Nothing nothing\n",
      "  fit_pi_: Nothing nothing\n",
      "  all_fits_: Nothing nothing\n",
      "  all_fitted: Nothing nothing\n",
      "  residuals_: Nothing nothing\n",
      "  all_residuals_: Nothing nothing\n",
      "  x_Rweights_: Nothing nothing\n",
      "  x_Rweights_unscaled_: Nothing nothing\n",
      "  x_Vloadings_: Nothing nothing\n",
      "  x_Vloadings_unscaled_: Nothing nothing\n",
      "  colret_: Nothing nothing\n",
      "  x_loc_: Nothing nothing\n",
      "  y_loc_: Nothing nothing\n",
      "  x_sca_: Nothing nothing\n",
      "  y_sca_: Nothing nothing\n",
      "  x_names: Nothing nothing\n",
      "  y_name: Nothing nothing\n",
      "  dbds_: Nothing nothing\n",
      "  dbdy_: Nothing nothing\n",
      "  dbdX_: Nothing nothing\n",
      "  varbs_: Nothing nothing\n",
      "  uncys_: Nothing nothing\n",
      "  _uncst: Nothing nothing\n",
      "Fitting a 3 component SIMPLS model\n"
     ]
    },
    {
     "data": {
      "text/plain": [
       "2-element Vector{Vector{Float64}}:\n",
       " [9.321972444930502, 8.098889100949108, 10.889836919419192, 11.25242089365102, 10.096721463459076, 9.220761920905776, 9.08648565384545, 7.771552479960285, 7.73945637128984, 11.475140660270768  …  11.790370653287603, 8.178771525871412, 12.522704706555704, 8.632856887304982, 9.938606637877125, 11.50796329469765, 9.886234972992469, 10.774063412277101, 10.924706835080304, 11.506185530373081]\n",
       " [9.321972444930502, 8.098889100949108, 10.889836919419192, 11.25242089365102, 10.096721463459076, 9.220761920905776, 9.08648565384545, 7.771552479960285, 7.73945637128984, 11.475140660270768  …  11.790370653287603, 8.178771525871412, 12.522704706555704, 8.632856887304982, 9.938606637877125, 11.50796329469765, 9.886234972992469, 10.774063412277101, 10.924706835080304, 11.506185530373081]"
      ]
     },
     "execution_count": 10,
     "metadata": {},
     "output_type": "execute_result"
    }
   ],
   "source": [
    "simreg = SIMPLS()\n",
    "set_params_dict!(simreg,Dict(:n_components => 3,:return_uncertainty => false, :centre => \"mean\", :scale => \"std\"))\n",
    "fit!(simreg,Xf,yf[:,1])\n",
    "[simreg.fitted_, predict(simreg,Xf)]"
   ]
  },
  {
   "cell_type": "markdown",
   "id": "0dd6337c",
   "metadata": {},
   "source": [
    "3) Cross-Validation\n",
    "-------------------"
   ]
  },
  {
   "cell_type": "markdown",
   "id": "21349f0b",
   "metadata": {},
   "source": [
    "The `unisimpls` package is written to be consistent with `ScikitLearn.jl`, such that widely used functions from ScikitLearn can be applied to it. This includes the cross-validation setup."
   ]
  },
  {
   "cell_type": "code",
   "execution_count": 20,
   "id": "a298516f",
   "metadata": {},
   "outputs": [
    {
     "name": "stdout",
     "output_type": "stream",
     "text": [
      "Fitting a 1 component SIMPLS model\n",
      "Calculating JacobiansFitting a 1 component SIMPLS model\n",
      "Calculating JacobiansFitting a 1 component SIMPLS model\n",
      "Calculating JacobiansFitting a 2 component SIMPLS model\n",
      "Calculating JacobiansFitting a 2 component SIMPLS model\n",
      "Calculating JacobiansFitting a 2 component SIMPLS model\n",
      "Calculating JacobiansFitting a 3 component SIMPLS model\n",
      "Calculating JacobiansFitting a 3 component SIMPLS model\n",
      "Calculating JacobiansFitting a 3 component SIMPLS model\n",
      "Calculating JacobiansFitting a 4 component SIMPLS model\n",
      "Calculating JacobiansFitting a 4 component SIMPLS model\n",
      "Calculating JacobiansFitting a 4 component SIMPLS model\n",
      "Calculating JacobiansFitting a 5 component SIMPLS model\n",
      "Calculating JacobiansFitting a 5 component SIMPLS model\n",
      "Calculating JacobiansFitting a 5 component SIMPLS model\n",
      "Calculating JacobiansFitting a 6 component SIMPLS model\n",
      "Calculating JacobiansFitting a 6 component SIMPLS model\n",
      "Calculating JacobiansFitting a 6 component SIMPLS model\n",
      "Calculating JacobiansFitting a 4 component SIMPLS model\n",
      "Calculating Jacobians"
     ]
    },
    {
     "data": {
      "text/plain": [
       "24-element Vector{Float64}:\n",
       "  9.36384272280911\n",
       "  8.131988079074588\n",
       " 10.897786513436316\n",
       " 11.153353298626431\n",
       " 10.191936435085566\n",
       "  9.268099326529924\n",
       "  9.092584126442901\n",
       "  7.758678268124676\n",
       "  7.827455607242349\n",
       " 11.481006837129424\n",
       " 10.02236306848065\n",
       "  7.952483306355351\n",
       " 10.424267812006299\n",
       " 10.169543655611019\n",
       " 11.798622089657442\n",
       "  8.091248079267512\n",
       " 12.570415993195216\n",
       "  8.528072254651974\n",
       "  9.933569573416957\n",
       " 11.507012938652636\n",
       "  9.878673960072653\n",
       " 10.741387713753667\n",
       " 10.935500510023289\n",
       " 11.470107830354085"
      ]
     },
     "execution_count": 20,
     "metadata": {},
     "output_type": "execute_result"
    }
   ],
   "source": [
    "import ScikitLearn.GridSearch:GridSearchCV\n",
    "simgrid = SIMPLS(return_uncertainty=false, scale=\"std\")\n",
    "gridsearch = GridSearchCV(simgrid, Dict(:n_components => collect(1:6)))\n",
    "fit!(gridsearch,Matrix(Xf),yf[:,1])\n",
    "gridsearch.best_params_\n",
    "predict(gridsearch.best_estimator_,Xf)"
   ]
  },
  {
   "cell_type": "markdown",
   "id": "eca0dcfe",
   "metadata": {},
   "source": [
    "4) Uncertainty Estimation\n",
    "-------------------------\n",
    "Uncertainty estimation is accomplished through error propagation using the fastest algorithm available to calculate Jacobian matrices. \n",
    "When `return_uncertainty` and `store_jacobians` are both set to `true`, the resulting Jacobians will be available in the object: "
   ]
  },
  {
   "cell_type": "code",
   "execution_count": 21,
   "id": "0cfec219",
   "metadata": {},
   "outputs": [
    {
     "name": "stdout",
     "output_type": "stream",
     "text": [
      "SIMPLS\n",
      "  n_components: Int64 3\n",
      "  verbose: Bool true\n",
      "  centre: String \"mean\"\n",
      "  scale: String \"std\"\n",
      "  copy: Bool true\n",
      "  all_components: Bool true\n",
      "  return_uncertainty: Bool true\n",
      "  store_jacobians: Bool true\n",
      "  significance: Float64 0.05\n",
      "  X_Types_Accept: Array{DataType}((7,))\n",
      "  y_Types_Accept: Array{DataType}((8,))\n",
      "  X0: Nothing nothing\n",
      "  y0: Nothing nothing\n",
      "  Xs_: Nothing nothing\n",
      "  ys_: Nothing nothing\n",
      "  x_loadings_: Nothing nothing\n",
      "  x_scores_: Nothing nothing\n",
      "  coef_: Nothing nothing\n",
      "  coef_scaled_: Nothing nothing\n",
      "  all_coeffs_: Nothing nothing\n",
      "  intercept_: Nothing nothing\n",
      "  all_intercepts_: Nothing nothing\n",
      "  x_ev_: Nothing nothing\n",
      "  y_ev_: Nothing nothing\n",
      "  fitted_: Nothing nothing\n",
      "  fit_pi_: Nothing nothing\n",
      "  all_fits_: Nothing nothing\n",
      "  all_fitted: Nothing nothing\n",
      "  residuals_: Nothing nothing\n",
      "  all_residuals_: Nothing nothing\n",
      "  x_Rweights_: Nothing nothing\n",
      "  x_Rweights_unscaled_: Nothing nothing\n",
      "  x_Vloadings_: Nothing nothing\n",
      "  x_Vloadings_unscaled_: Nothing nothing\n",
      "  colret_: Nothing nothing\n",
      "  x_loc_: Nothing nothing\n",
      "  y_loc_: Nothing nothing\n",
      "  x_sca_: Nothing nothing\n",
      "  y_sca_: Nothing nothing\n",
      "  x_names: Nothing nothing\n",
      "  y_name: Nothing nothing\n",
      "  dbds_: Nothing nothing\n",
      "  dbdy_: Nothing nothing\n",
      "  dbdX_: Nothing nothing\n",
      "  varbs_: Nothing nothing\n",
      "  uncys_: Nothing nothing\n",
      "  _uncst: Nothing nothing\n",
      "Fitting a 3 component SIMPLS model\n",
      "Calculating Jacobians"
     ]
    },
    {
     "data": {
      "text/plain": [
       "6×24 Matrix{Float64}:\n",
       "  0.0387999    0.0214383  -0.0569864   …  -0.167584   -0.0647936  -0.137242\n",
       "  0.0276706   -0.143341    0.163319        0.0567056   0.163202    0.14515\n",
       "  0.00260346  -0.0473614   0.172226        0.0598432   0.139039    0.114746\n",
       "  0.0141768    0.14049    -0.232862       -0.206384   -0.213669   -0.209063\n",
       "  0.124537     0.152895   -0.00726857      0.1764      0.06243    -0.0424717\n",
       " -0.228024    -0.155051   -0.0791472   …   0.119238   -0.100484    0.140122"
      ]
     },
     "execution_count": 21,
     "metadata": {},
     "output_type": "execute_result"
    }
   ],
   "source": [
    "simreg = SIMPLS()\n",
    "set_params_dict!(simreg,Dict(:n_components => 3,:return_uncertainty => true, :centre => \"mean\", :scale => \"std\"))\n",
    "fit!(simreg,Xf,yf[:,1])\n",
    "simreg.dbdy_"
   ]
  },
  {
   "cell_type": "markdown",
   "id": "e33547ca",
   "metadata": {},
   "source": [
    "It is easy to verify that this Jacobian is identical to the ones obtained through numerical differentiation, yet calculated much faster: "
   ]
  },
  {
   "cell_type": "code",
   "execution_count": 26,
   "id": "4832449d",
   "metadata": {},
   "outputs": [
    {
     "data": {
      "text/plain": [
       "6×24 Matrix{Float64}:\n",
       "  0.0387999    0.0214383  -0.0569864   …  -0.167584   -0.0647936  -0.137242\n",
       "  0.0276706   -0.143341    0.163319        0.0567056   0.163202    0.14515\n",
       "  0.00260346  -0.0473614   0.172226        0.0598432   0.139039    0.114746\n",
       "  0.0141768    0.14049    -0.232862       -0.206384   -0.213669   -0.209063\n",
       "  0.124537     0.152895   -0.00726857      0.1764      0.06243    -0.0424717\n",
       " -0.228024    -0.155051   -0.0791472   …   0.119238   -0.100484    0.140122"
      ]
     },
     "execution_count": 26,
     "metadata": {},
     "output_type": "execute_result"
    }
   ],
   "source": [
    "using FiniteDifferences\n",
    "Xs = autoscale(Xf,\"mean\",\"std\").X_as_\n",
    "ys = autoscale(yf,\"mean\",\"std\").X_as_\n",
    "fdy(y) = unisimpls._fit_simpls(3,6,24,Matrix(Xs),y,[],true,false)[7]\n",
    "J = jacobian(backward_fdm(5,1),fdy,ys[:,1])[1]"
   ]
  },
  {
   "cell_type": "markdown",
   "id": "124363a7",
   "metadata": {},
   "source": [
    "The Jacobian with respect to X: "
   ]
  },
  {
   "cell_type": "code",
   "execution_count": 27,
   "id": "b376e25e",
   "metadata": {},
   "outputs": [
    {
     "data": {
      "text/plain": [
       "6×144 Matrix{Float64}:\n",
       " -0.0745805    -0.875218    1.44079   …  -0.308043   -0.300589   -0.267144\n",
       " -0.000469315   0.059091   -0.13697      -0.122004   -0.0679141  -0.0858584\n",
       "  0.0111489     0.0813813  -0.171287     -0.118578   -0.0621579  -0.0748911\n",
       " -0.0374821     0.484338   -0.925503     -0.444493   -0.543179   -0.498568\n",
       "  0.0954279     0.0407961   0.148205      0.0356389  -0.0590981  -0.128461\n",
       " -0.0124172     0.180885   -0.387574  …   0.983349    1.01672     1.05974"
      ]
     },
     "execution_count": 27,
     "metadata": {},
     "output_type": "execute_result"
    }
   ],
   "source": [
    "simreg.dbdX_"
   ]
  },
  {
   "cell_type": "markdown",
   "id": "47d86449",
   "metadata": {},
   "source": [
    "Prediction interval for training data: "
   ]
  },
  {
   "cell_type": "code",
   "execution_count": 28,
   "id": "17890128",
   "metadata": {},
   "outputs": [
    {
     "data": {
      "text/plain": [
       "24×2 Matrix{Float64}:\n",
       "  7.84978  10.7942\n",
       "  6.06963  10.1281\n",
       "  8.77309  13.0066\n",
       "  8.83856  13.6663\n",
       "  8.25095  11.9425\n",
       "  8.14964  10.2919\n",
       "  7.37297  10.8\n",
       "  5.85664   9.68646\n",
       "  6.85998   8.61893\n",
       " 10.6961   12.2541\n",
       "  8.24881  11.7424\n",
       "  5.7938   10.1434\n",
       "  8.57917  12.1899\n",
       "  7.96362  12.4875\n",
       "  7.59119  15.9896\n",
       "  6.90243   9.45511\n",
       "  5.81347  19.2319\n",
       "  7.43034   9.83538\n",
       "  9.08231  10.7949\n",
       " 10.7193   12.2967\n",
       "  8.06068  11.7118\n",
       "  9.1198   12.4283\n",
       "  9.80692  12.0425\n",
       " 10.512    12.5003"
      ]
     },
     "execution_count": 28,
     "metadata": {},
     "output_type": "execute_result"
    }
   ],
   "source": [
    "simreg.fit_pi_"
   ]
  },
  {
   "cell_type": "markdown",
   "id": "fea0d5aa",
   "metadata": {},
   "source": [
    "This can equivalently be obtained by using the function `predint`, which will calculate prediction intervals for training, test or new data points and allows to specify a significance lavel different from the one in the parent `SIMPLS` object. "
   ]
  },
  {
   "cell_type": "code",
   "execution_count": 30,
   "id": "3b10b721",
   "metadata": {},
   "outputs": [
    {
     "data": {
      "text/plain": [
       "24×2 Matrix{Float64}:\n",
       "  7.84978  10.7942\n",
       "  6.06963  10.1281\n",
       "  8.77309  13.0066\n",
       "  8.83856  13.6663\n",
       "  8.25095  11.9425\n",
       "  8.14964  10.2919\n",
       "  7.37297  10.8\n",
       "  5.85664   9.68646\n",
       "  6.85998   8.61893\n",
       " 10.6961   12.2541\n",
       "  8.24881  11.7424\n",
       "  5.7938   10.1434\n",
       "  8.57917  12.1899\n",
       "  7.96362  12.4875\n",
       "  7.59119  15.9896\n",
       "  6.90243   9.45511\n",
       "  5.81347  19.2319\n",
       "  7.43034   9.83538\n",
       "  9.08231  10.7949\n",
       " 10.7193   12.2967\n",
       "  8.06068  11.7118\n",
       "  9.1198   12.4283\n",
       "  9.80692  12.0425\n",
       " 10.512    12.5003"
      ]
     },
     "execution_count": 30,
     "metadata": {},
     "output_type": "execute_result"
    }
   ],
   "source": [
    "predint(simreg,Xf)"
   ]
  },
  {
   "cell_type": "code",
   "execution_count": 33,
   "id": "c23b9b8e",
   "metadata": {},
   "outputs": [
    {
     "data": {
      "text/plain": [
       "24×2 Matrix{Float64}:\n",
       "  8.08647  10.5575\n",
       "  6.39588   9.8019\n",
       "  9.11341  12.6663\n",
       "  9.22665  13.2782\n",
       "  8.5477   11.6457\n",
       "  8.32185  10.1197\n",
       "  7.64846  10.5245\n",
       "  6.16451   9.37859\n",
       "  7.00138   8.47754\n",
       " 10.8214   12.1289\n",
       "  8.52965  11.4616\n",
       "  6.14345   9.79376\n",
       "  8.86942  11.8996\n",
       "  8.32728  12.1238\n",
       "  8.26631  15.3144\n",
       "  7.10763   9.24991\n",
       "  6.89214  18.1533\n",
       "  7.62367   9.64204\n",
       "  9.21998  10.6572\n",
       " 10.8461   12.1699\n",
       "  8.35418  11.4183\n",
       "  9.38576  12.1624\n",
       "  9.98663  11.8628\n",
       " 10.6719   12.3405"
      ]
     },
     "execution_count": 33,
     "metadata": {},
     "output_type": "execute_result"
    }
   ],
   "source": [
    "predint(simreg,Xf,.1)"
   ]
  }
 ],
 "metadata": {
  "kernelspec": {
   "display_name": "Julia 1.9.0",
   "language": "julia",
   "name": "julia-1.9"
  },
  "language_info": {
   "file_extension": ".jl",
   "mimetype": "application/julia",
   "name": "julia",
   "version": "1.9.0"
  }
 },
 "nbformat": 4,
 "nbformat_minor": 5
}
